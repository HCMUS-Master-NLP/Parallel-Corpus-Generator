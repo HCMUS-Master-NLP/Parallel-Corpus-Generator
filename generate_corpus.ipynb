{
  "cells": [
    {
      "cell_type": "code",
      "execution_count": null,
      "metadata": {},
      "outputs": [],
      "source": [
        "# INSTALL PACKAGES\n",
        "%pip install -r requirements.txt\n",
        "%pip install -r ./quocngu_normalizer/requirements.txt"
      ]
    },
    {
      "cell_type": "code",
      "execution_count": null,
      "metadata": {},
      "outputs": [],
      "source": [
        "# IMPORT LIBRARIES\n",
        "from config import GeneratorConfig\n",
        "from parallel_corpus_generator import ParallelCorpusGenerator"
      ]
    },
    {
      "cell_type": "code",
      "execution_count": null,
      "metadata": {},
      "outputs": [],
      "source": [
        "config = GeneratorConfig()\n",
        "generator = ParallelCorpusGenerator(config)\n",
        "\n",
        "start_sect = 1\n",
        "end_sect = 25\n",
        "\n",
        "sect_ids = [i for i in range(start_sect,end_sect+1)]\n",
        "generator.align_and_save_sections(sect_ids=sect_ids)"
      ]
    }
  ],
  "metadata": {
    "colab": {
      "provenance": []
    },
    "kernelspec": {
      "display_name": "nlp_midterm",
      "language": "python",
      "name": "python3"
    },
    "language_info": {
      "codemirror_mode": {
        "name": "ipython",
        "version": 3
      },
      "file_extension": ".py",
      "mimetype": "text/x-python",
      "name": "python",
      "nbconvert_exporter": "python",
      "pygments_lexer": "ipython3",
      "version": "3.11.13"
    }
  },
  "nbformat": 4,
  "nbformat_minor": 0
}
