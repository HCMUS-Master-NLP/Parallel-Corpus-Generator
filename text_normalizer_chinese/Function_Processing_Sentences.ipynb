{
  "cells": [
    {
      "cell_type": "markdown",
      "metadata": {
        "id": "BOXgbZq370Jq"
      },
      "source": [
        "# Cài đặt thư viện"
      ]
    },
    {
      "cell_type": "code",
      "execution_count": null,
      "metadata": {
        "id": "uIhO1cT0PP4p"
      },
      "outputs": [],
      "source": [
        "import unicodedata\n",
        "import re\n",
        "import numpy as np\n",
        "from opencc import OpenCC\n",
        "import numpy as np\n",
        "import pandas as pd\n",
        "import matplotlib.pyplot as plt"
      ]
    },
    {
      "cell_type": "markdown",
      "metadata": {
        "id": "S9sCU3lv74Nw"
      },
      "source": [
        "# Hàm xử lý tiếng Hán"
      ]
    },
    {
      "cell_type": "code",
      "execution_count": null,
      "metadata": {
        "id": "QjPfn3cEP20q"
      },
      "outputs": [],
      "source": [
        "def normalize_chinese_text(text: str, to_traditional: bool = False) -> str:\n",
        "      \"\"\"\n",
        "    Chuẩn hóa văn bản tiếng Trung bao gồm:\n",
        "    - Chuẩn hóa Unicode\n",
        "    - Chuyển đổi dấu câu và mã ký tự\n",
        "    - Chuyển đổi giản thể ↔ phồn thể\n",
        "    - Loại bỏ ký tự nhiễu (HTML, markdown, chú thích, ...)\n",
        "    - Giữ lại ký tự CJK và dấu câu tiếng Trung phổ biến\n",
        "    - Chuẩn hóa dấu câu lặp và định dạng ngoặc kép\n",
        "\n",
        "    Args:\n",
        "        text (str): Văn bản đầu vào cần chuẩn hóa\n",
        "        to_traditional (bool):\n",
        "            - True: chuyển văn bản về **phồn thể**\n",
        "            - False (default): chuyển về **giản thể**\n",
        "\n",
        "    Returns:\n",
        "        str: Văn bản đã được chuẩn hóa\n",
        "\n",
        "    Các bước xử lý cụ thể:\n",
        "    1. Chuẩn hóa mã Unicode theo chuẩn NFKC\n",
        "    2. Chuyển đổi ký tự full-width → half-width (dấu tiếng Trung thành ASCII)\n",
        "    3. Chuyển đổi chữ Giản thể ↔ Phồn thể bằng OpenCC\n",
        "    4. Xóa các yếu tố nhiễu như:\n",
        "       - Thẻ HTML (`<...>`)\n",
        "       - Chú thích dạng `[1]`, `【注】`\n",
        "       - Markdown `#title`\n",
        "    5. Giữ lại các ký tự tiếng Trung, khoảng trắng, và dấu câu chuẩn (`。，！？：「」『』—…·《》`)\n",
        "    6. Chuẩn hóa khoảng trắng, loại bỏ dấu câu bị lặp\n",
        "    7. Thay thế ngoặc kép tiếng Trung:\n",
        "       - 「」 → “”\n",
        "       - 『』 → “”\n",
        "    \"\"\"\n",
        "  # 1. Normalize Unicode (NFKC)\n",
        "    text = raw_text.replace(']', '」')\n",
        "    text = unicodedata.normalize(\"NFKC\", text)\n",
        "\n",
        "    # 2. Convert full-width → half-width\n",
        "    text = ''.join(\n",
        "        chr(ord(c) - 0xFEE0) if 0xFF01 <= ord(c) <= 0xFF5E else c\n",
        "        for c in text\n",
        "    )\n",
        "\n",
        "    # 3. Convert Simplified ↔ Traditional\n",
        "    if to_traditional:\n",
        "        text = OpenCC('s2t').convert(text)\n",
        "    else:\n",
        "        text = OpenCC('t2s').convert(text)\n",
        "\n",
        "    # 4. Remove noise (HTML tags, markdown, [1], 【注】)\n",
        "    text = re.sub(r'<[^>]+>', '', text)\n",
        "    text = re.sub(r'\\[[^\\]]*\\]', '', text)\n",
        "    text = re.sub(r'【[^】]*】', '', text)\n",
        "    text = re.sub(r'#.*', '', text)\n",
        "    text = text.replace(',', '，')\n",
        "    # 5. Filter only CJK characters + standard punctuations\n",
        "    text = ''.join(re.findall(r'[\\u4e00-\\u9fff\\u3000-\\u303f\\uff00-\\uffef。，、！? :「」『』—…·《》\\s]+', text))\n",
        "\n",
        "    # 6. Normalize spacing and repeated punctuation\n",
        "    text = re.sub(r'\\s+', '', text)  # Remove all whitespaces\n",
        "    text = re.sub(r'([，。！? :「」『』—…·])\\1+', r'\\1', text)\n",
        "    text = text.replace('「', '“').replace('」', '”')\n",
        "    text = text.replace('『', '“').replace('』', '”')\n",
        "    return text.strip()\n",
        "\n",
        "def split_chinese_sentences(text):\n",
        "    \"\"\"\n",
        "    Tách văn bản tiếng Hán thành từng câu hoàn chỉnh.\n",
        "\n",
        "    Quy tắc tách:\n",
        "    - Tách câu khi gặp dấu kết thúc câu: 。！？ (kèm hoặc không kèm dấu ngoặc kép ”)\n",
        "    - Nếu dấu kết thúc là 。！？ rồi đến ” (ví dụ: ？”), thì tách sau dấu ”\n",
        "    - Nếu chỉ là 。！？ và không có ” theo sau, thì tách ngay sau dấu đó\n",
        "    - Không làm mất dấu câu hoặc dấu ngoặc kép\n",
        "    - Câu phía sau sẽ được giữ nguyên nội dung\n",
        "\n",
        "    Args:\n",
        "        text (str): Văn bản tiếng Hán cần tách câu\n",
        "\n",
        "    Returns:\n",
        "        List[str]: Danh sách các câu đã tách, được loại bỏ khoảng trắng dư thừa\n",
        "\n",
        "    Cách hoạt động:\n",
        "    - Bước 1: Dùng re.sub() để chèn dấu phân cách đặc biệt (###) sau dấu kết câu\n",
        "              với điều kiện: nếu sau dấu đó là ” → chèn sau ”\n",
        "    - Bước 2: Với các dấu câu không có ” sau → chèn ngay sau dấu câu\n",
        "    - Bước 3: Dùng .split('###') để phân chia văn bản thành các câu riêng biệt\n",
        "    - Bước 4: Xoá khoảng trắng dư và lọc bỏ chuỗi rỗng\n",
        "    \"\"\"\n",
        "    # Thêm dấu phân cách đặc biệt sau dấu kết thúc câu để tách\n",
        "    text = re.sub(r'([。！?])”(?=\\S)', r'\\1”###', text)\n",
        "    text = re.sub(r'([。！?])(?![”])(?=\\S)', r'\\1###', text)\n",
        "\n",
        "    # Tách theo dấu ###\n",
        "    sentences = text.split('###')\n",
        "\n",
        "    return [s.strip() for s in sentences if s.strip()]\n",
        "\n",
        "def analyze_and_export_sentences(sentences, csv_path='clustering_sentences.csv', plot_path='plots_sentences.png'):\n",
        "        \"\"\"\n",
        "    Phân tích thống kê danh sách câu và xuất kết quả ra file CSV + biểu đồ histogram.\n",
        "\n",
        "    Các bước thực hiện:\n",
        "    1. Tính chiều dài từng câu (số ký tự)\n",
        "    2. Tính thống kê mô tả: số lượng, trung bình, độ lệch chuẩn, min, max, phân vị 25%, 50%, 75%\n",
        "    3. Phân loại các câu thành 3 nhóm độ dài:\n",
        "       - \"Ngắn\": <= phân vị 25%\n",
        "       - \"Dài\": >= phân vị 75%\n",
        "       - \"Trung bình\": giữa Q1 và Q3\n",
        "    4. Lưu bảng kết quả gồm: câu, độ dài, phân nhóm vào file CSV\n",
        "    5. Vẽ và lưu biểu đồ histogram độ dài câu dưới dạng PNG\n",
        "\n",
        "    Args:\n",
        "        sentences (List[str]): Danh sách các câu đầu vào để phân tích\n",
        "        csv_path (str): Đường dẫn lưu file CSV kết quả\n",
        "        plot_path (str): Đường dẫn lưu file hình biểu đồ phân bố\n",
        "\n",
        "    Returns:\n",
        "        dict: Thống kê mô tả (mean, std, min, max, Q1, Q2, Q3, ...)\n",
        "               hoặc thông báo lỗi nếu danh sách trống\n",
        "    \"\"\"\n",
        "    lengths = [len(s) for s in sentences]\n",
        "\n",
        "    if not lengths:\n",
        "        print(\"Danh sách câu rỗng.\")\n",
        "        return\n",
        "\n",
        "    # Thống kê\n",
        "    q25, q50, q75 = np.percentile(lengths, [25, 50, 75])\n",
        "    stats = {\n",
        "        \"Số lượng câu\": len(sentences),\n",
        "        \"Chiều dài trung bình\": round(np.mean(lengths), 2),\n",
        "        \"Độ lệch chuẩn\": round(np.std(lengths), 2),\n",
        "        \"Chiều dài tối thiểu\": min(lengths),\n",
        "        \"Chiều dài tối đa\": max(lengths),\n",
        "        \"Phân vị 25%\": q25,\n",
        "        \"Phân vị 50%\": q50,\n",
        "        \"Phân vị 75%\": q75\n",
        "    }\n",
        "\n",
        "    # Phân loại độ dài câu\n",
        "    categories = []\n",
        "    for l in lengths:\n",
        "        if l <= q25:\n",
        "            categories.append(\"Ngắn\")\n",
        "        elif l >= q75:\n",
        "            categories.append(\"Dài\")\n",
        "        else:\n",
        "            categories.append(\"Trung bình\")\n",
        "\n",
        "    # Lưu bảng kết quả\n",
        "    df = pd.DataFrame({\n",
        "        \"Câu\": sentences,\n",
        "        \"Độ dài\": lengths,\n",
        "        \"Phân nhóm\": categories\n",
        "    })\n",
        "    df.to_csv(csv_path, index=False, encoding='utf-8-sig')\n",
        "    print(f\"Đã lưu bảng phân nhóm vào: {csv_path}\")\n",
        "\n",
        "    # Vẽ histogram\n",
        "    plt.figure(figsize=(8, 4))\n",
        "    plt.hist(lengths, bins=20, edgecolor='black')\n",
        "    plt.title('Phân bố độ dài câu')\n",
        "    plt.xlabel('Độ dài câu (số ký tự)')\n",
        "    plt.ylabel('Số câu')\n",
        "    plt.grid(True)\n",
        "    plt.tight_layout()\n",
        "    plt.savefig(plot_path)\n",
        "    print(f\"Đã lưu biểu đồ vào: {plot_path}\")\n",
        "\n",
        "    return stats\n",
        "\n",
        "stats = analyze_and_export_sentences(sentences)\n",
        "print(\"\\nThống kê:\", stats)"
      ]
    },
    {
      "cell_type": "markdown",
      "metadata": {
        "id": "Lpam7PWf7988"
      },
      "source": [
        "# Main"
      ]
    },
    {
      "cell_type": "code",
      "execution_count": 190,
      "metadata": {
        "colab": {
          "base_uri": "https://localhost:8080/",
          "height": 496
        },
        "id": "FKQ3Y4o0P4K3",
        "outputId": "82f45527-4a54-423c-f064-ed701e4bb964"
      },
      "outputs": [
        {
          "name": "stdout",
          "output_type": "stream",
          "text": [
            "✅ Đã lưu bảng phân nhóm vào: phan_nhom_cau.csv\n",
            "✅ Đã lưu biểu đồ vào: do_dai_cau.png\n",
            "\n",
            "Thống kê: {'Số lượng câu': 1221, 'Chiều dài trung bình': np.float64(21.85), 'Độ lệch chuẩn': np.float64(13.64), 'Chiều dài tối thiểu': 2, 'Chiều dài tối đa': 135, 'Phân vị 25%': np.float64(14.0), 'Phân vị 50%': np.float64(18.0), 'Phân vị 75%': np.float64(26.0)}\n"
          ]
        },
        {
          "data": {
            "image/png": "[encoded data removed]",
            "text/plain": [
              "<Figure size 800x400 with 1 Axes>"
            ]
          },
          "metadata": {},
          "output_type": "display_data"
        }
      ],
      "source": [
        "path = '/content/Book-Tay_Du_Ky-Trung_page_48_to_68.txt'\n",
        "with open(path, 'r', encoding='utf-8') as f:\n",
        "        raw_text = f.read()\n",
        "cleaned_text = normalize_chinese_text(raw_text)\n",
        "sentences = split_chinese_sentences(cleaned_text)\n",
        "# for i, s in enumerate(sentences, 1):\n",
        "#     print(f\"{i}. {s}\")\n",
        "stats = analyze_and_export_sentences(sentences)\n",
        "print(\"\\nThống kê:\", stats)"
      ]
    }
  ],
  "metadata": {
    "colab": {
      "provenance": []
    },
    "kernelspec": {
      "display_name": "Python 3",
      "name": "python3"
    },
    "language_info": {
      "name": "python"
    }
  },
  "nbformat": 4,
  "nbformat_minor": 0
}
