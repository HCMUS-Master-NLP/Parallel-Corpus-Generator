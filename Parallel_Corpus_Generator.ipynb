{
  "cells": [
    {
      "cell_type": "markdown",
      "metadata": {},
      "source": [
        "## Install neccessary packages"
      ]
    },
    {
      "cell_type": "code",
      "execution_count": null,
      "metadata": {},
      "outputs": [
        {
          "name": "stdout",
          "output_type": "stream",
          "text": [
            "Python 3.11.13\n"
          ]
        }
      ],
      "source": [
        "# Python 3.11.13\n",
        "!python --version"
      ]
    },
    {
      "cell_type": "code",
      "execution_count": null,
      "metadata": {},
      "outputs": [],
      "source": [
        "%pip install -r ./extract_text/requirements.txt\n",
        "%pip install -r ./text_normalizer_vietnamese/requirements.txt\n",
        "%pip install pymupdf\n",
        "%pip install matplotlib pandas"
      ]
    },
    {
      "cell_type": "markdown",
      "metadata": {},
      "source": [
        "## 1. Lấy dữ liệu văn bản từ tệp PDF"
      ]
    },
    {
      "cell_type": "code",
      "execution_count": null,
      "metadata": {},
      "outputs": [],
      "source": [
        "# VĂN BẢN CHỮ QUỐC NGỮ\n",
        "# !python ./pdf_to_text/main.py -p ./data/source/Book-Tay_Du_Ky-Viet.pdf -l viet -o ./data/raw_text/vietnamese -fp 48 -np 2 --rule_path ./pdf_to_text/removal_rules_vietnamese.json --use_rule\n",
        "# Trang chứa nội dung: 48 -> 3415"
      ]
    },
    {
      "cell_type": "code",
      "execution_count": 101,
      "metadata": {},
      "outputs": [],
      "source": [
        "# VĂN BẢN CHỮ HÁN\n",
        "# !python ./pdf_to_text/main.py -p ./data/source/Book-Tay_Du_Ky-Trung.pdf -l trung -o ./data/raw_text/chinese -fp 1 -np 2 --rule_path ./pdf_to_text/removal_rules_chinese.json --use_rule --use_page_split\n",
        "!python ./extract_text/extract_text_from_pdf.py\n",
        "# Trang chứa nội dung: 1 -> 542"
      ]
    },
    {
      "cell_type": "markdown",
      "metadata": {},
      "source": [
        "## 2. Chuẩn hóa dữ liệu văn bản "
      ]
    },
    {
      "cell_type": "markdown",
      "metadata": {},
      "source": [
        "### 2.1 Chuẩn hóa văn bản chữ Quốc ngữ"
      ]
    },
    {
      "cell_type": "code",
      "execution_count": null,
      "metadata": {},
      "outputs": [],
      "source": [
        "# !python ./text_normalizer_vietnamese/main.py ./data/raw_text/vietnamese/ ./data/cleaned_text/vietnamese"
      ]
    },
    {
      "cell_type": "markdown",
      "metadata": {},
      "source": [
        "### 2.2 Chuẩn hóa văn bản chữ Hán"
      ]
    },
    {
      "cell_type": "code",
      "execution_count": null,
      "metadata": {},
      "outputs": [],
      "source": [
        "# !python ./text_normalizer_chinese/main.py -i ./data/raw_text/chinese/ -o ./data/cleaned_text/chinese"
      ]
    }
  ],
  "metadata": {
    "colab": {
      "provenance": []
    },
    "kernelspec": {
      "display_name": "nlp_midterm",
      "language": "python",
      "name": "python3"
    },
    "language_info": {
      "codemirror_mode": {
        "name": "ipython",
        "version": 3
      },
      "file_extension": ".py",
      "mimetype": "text/x-python",
      "name": "python",
      "nbconvert_exporter": "python",
      "pygments_lexer": "ipython3",
      "version": "3.11.13"
    }
  },
  "nbformat": 4,
  "nbformat_minor": 0
}
