{
  "cells": [
    {
      "cell_type": "markdown",
      "metadata": {},
      "source": [
        "## Install neccessary packages"
      ]
    },
    {
      "cell_type": "code",
      "execution_count": 1,
      "metadata": {},
      "outputs": [
        {
          "name": "stdout",
          "output_type": "stream",
          "text": [
            "Python 3.11.13\n"
          ]
        }
      ],
      "source": [
        "!python --version"
      ]
    },
    {
      "cell_type": "code",
      "execution_count": null,
      "metadata": {},
      "outputs": [],
      "source": [
        "%pip install -r ./pdf_to_text/requirements.txt\n",
        "%pip install -r ./text_normalizer_vietnamese/requirements.txt"
      ]
    },
    {
      "cell_type": "code",
      "execution_count": 31,
      "metadata": {},
      "outputs": [
        {
          "name": "stdout",
          "output_type": "stream",
          "text": [
            "Collecting matplotlib\n",
            "  Using cached matplotlib-3.10.3-cp311-cp311-win_amd64.whl.metadata (11 kB)\n",
            "Requirement already satisfied: pandas in d:\\application\\miniconda\\envs\\nlp_midterm\\lib\\site-packages (2.2.3)\n",
            "Collecting contourpy>=1.0.1 (from matplotlib)\n",
            "  Downloading contourpy-1.3.2-cp311-cp311-win_amd64.whl.metadata (5.5 kB)\n",
            "Collecting cycler>=0.10 (from matplotlib)\n",
            "  Downloading cycler-0.12.1-py3-none-any.whl.metadata (3.8 kB)\n",
            "Collecting fonttools>=4.22.0 (from matplotlib)\n",
            "  Downloading fonttools-4.58.2-cp311-cp311-win_amd64.whl.metadata (108 kB)\n",
            "Collecting kiwisolver>=1.3.1 (from matplotlib)\n",
            "  Downloading kiwisolver-1.4.8-cp311-cp311-win_amd64.whl.metadata (6.3 kB)\n",
            "Requirement already satisfied: numpy>=1.23 in d:\\application\\miniconda\\envs\\nlp_midterm\\lib\\site-packages (from matplotlib) (2.2.5)\n",
            "Requirement already satisfied: packaging>=20.0 in d:\\application\\miniconda\\envs\\nlp_midterm\\lib\\site-packages (from matplotlib) (25.0)\n",
            "Requirement already satisfied: pillow>=8 in d:\\application\\miniconda\\envs\\nlp_midterm\\lib\\site-packages (from matplotlib) (11.2.1)\n",
            "Collecting pyparsing>=2.3.1 (from matplotlib)\n",
            "  Downloading pyparsing-3.2.3-py3-none-any.whl.metadata (5.0 kB)\n",
            "Requirement already satisfied: python-dateutil>=2.7 in d:\\application\\miniconda\\envs\\nlp_midterm\\lib\\site-packages (from matplotlib) (2.9.0.post0)\n",
            "Requirement already satisfied: pytz>=2020.1 in d:\\application\\miniconda\\envs\\nlp_midterm\\lib\\site-packages (from pandas) (2025.2)\n",
            "Requirement already satisfied: tzdata>=2022.7 in d:\\application\\miniconda\\envs\\nlp_midterm\\lib\\site-packages (from pandas) (2025.2)\n",
            "Requirement already satisfied: six>=1.5 in d:\\application\\miniconda\\envs\\nlp_midterm\\lib\\site-packages (from python-dateutil>=2.7->matplotlib) (1.17.0)\n",
            "Downloading matplotlib-3.10.3-cp311-cp311-win_amd64.whl (8.1 MB)\n",
            "   ---------------------------------------- 0.0/8.1 MB ? eta -:--:--\n",
            "   --------- ------------------------------ 1.8/8.1 MB 10.0 MB/s eta 0:00:01\n",
            "   -------------------- ------------------- 4.2/8.1 MB 10.5 MB/s eta 0:00:01\n",
            "   ------------------------------- -------- 6.3/8.1 MB 10.4 MB/s eta 0:00:01\n",
            "   ---------------------------------------- 8.1/8.1 MB 9.8 MB/s eta 0:00:00\n",
            "Downloading contourpy-1.3.2-cp311-cp311-win_amd64.whl (222 kB)\n",
            "Downloading cycler-0.12.1-py3-none-any.whl (8.3 kB)\n",
            "Downloading fonttools-4.58.2-cp311-cp311-win_amd64.whl (2.2 MB)\n",
            "   ---------------------------------------- 0.0/2.2 MB ? eta -:--:--\n",
            "   ---------------------------------------- 2.2/2.2 MB 10.6 MB/s eta 0:00:00\n",
            "Downloading kiwisolver-1.4.8-cp311-cp311-win_amd64.whl (71 kB)\n",
            "Downloading pyparsing-3.2.3-py3-none-any.whl (111 kB)\n",
            "Installing collected packages: pyparsing, kiwisolver, fonttools, cycler, contourpy, matplotlib\n",
            "\n",
            "   ---------------------------------------- 0/6 [pyparsing]\n",
            "   ---------------------------------------- 0/6 [pyparsing]\n",
            "   ---------------------------------------- 0/6 [pyparsing]\n",
            "   ---------------------------------------- 0/6 [pyparsing]\n",
            "   ------------- -------------------------- 2/6 [fonttools]\n",
            "   ------------- -------------------------- 2/6 [fonttools]\n",
            "   ------------- -------------------------- 2/6 [fonttools]\n",
            "   ------------- -------------------------- 2/6 [fonttools]\n",
            "   ------------- -------------------------- 2/6 [fonttools]\n",
            "   ------------- -------------------------- 2/6 [fonttools]\n",
            "   ------------- -------------------------- 2/6 [fonttools]\n",
            "   ------------- -------------------------- 2/6 [fonttools]\n",
            "   ------------- -------------------------- 2/6 [fonttools]\n",
            "   ------------- -------------------------- 2/6 [fonttools]\n",
            "   ------------- -------------------------- 2/6 [fonttools]\n",
            "   ------------- -------------------------- 2/6 [fonttools]\n",
            "   ------------- -------------------------- 2/6 [fonttools]\n",
            "   ------------- -------------------------- 2/6 [fonttools]\n",
            "   ------------- -------------------------- 2/6 [fonttools]\n",
            "   ------------- -------------------------- 2/6 [fonttools]\n",
            "   ------------- -------------------------- 2/6 [fonttools]\n",
            "   ------------- -------------------------- 2/6 [fonttools]\n",
            "   ------------- -------------------------- 2/6 [fonttools]\n",
            "   ------------- -------------------------- 2/6 [fonttools]\n",
            "   ------------- -------------------------- 2/6 [fonttools]\n",
            "   ------------- -------------------------- 2/6 [fonttools]\n",
            "   ------------- -------------------------- 2/6 [fonttools]\n",
            "   ------------- -------------------------- 2/6 [fonttools]\n",
            "   ------------- -------------------------- 2/6 [fonttools]\n",
            "   ------------- -------------------------- 2/6 [fonttools]\n",
            "   ------------- -------------------------- 2/6 [fonttools]\n",
            "   ------------- -------------------------- 2/6 [fonttools]\n",
            "   ------------- -------------------------- 2/6 [fonttools]\n",
            "   ------------- -------------------------- 2/6 [fonttools]\n",
            "   ------------- -------------------------- 2/6 [fonttools]\n",
            "   ------------- -------------------------- 2/6 [fonttools]\n",
            "   ------------- -------------------------- 2/6 [fonttools]\n",
            "   ------------- -------------------------- 2/6 [fonttools]\n",
            "   ------------- -------------------------- 2/6 [fonttools]\n",
            "   ------------- -------------------------- 2/6 [fonttools]\n",
            "   ------------- -------------------------- 2/6 [fonttools]\n",
            "   ------------- -------------------------- 2/6 [fonttools]\n",
            "   ------------- -------------------------- 2/6 [fonttools]\n",
            "   ------------- -------------------------- 2/6 [fonttools]\n",
            "   ------------- -------------------------- 2/6 [fonttools]\n",
            "   ------------- -------------------------- 2/6 [fonttools]\n",
            "   ------------- -------------------------- 2/6 [fonttools]\n",
            "   ------------- -------------------------- 2/6 [fonttools]\n",
            "   ------------- -------------------------- 2/6 [fonttools]\n",
            "   ------------- -------------------------- 2/6 [fonttools]\n",
            "   ------------- -------------------------- 2/6 [fonttools]\n",
            "   ------------- -------------------------- 2/6 [fonttools]\n",
            "   ------------- -------------------------- 2/6 [fonttools]\n",
            "   ------------- -------------------------- 2/6 [fonttools]\n",
            "   ------------- -------------------------- 2/6 [fonttools]\n",
            "   ------------- -------------------------- 2/6 [fonttools]\n",
            "   ------------- -------------------------- 2/6 [fonttools]\n",
            "   ------------- -------------------------- 2/6 [fonttools]\n",
            "   ------------- -------------------------- 2/6 [fonttools]\n",
            "   ------------- -------------------------- 2/6 [fonttools]\n",
            "   ------------- -------------------------- 2/6 [fonttools]\n",
            "   ------------- -------------------------- 2/6 [fonttools]\n",
            "   ------------- -------------------------- 2/6 [fonttools]\n",
            "   ------------- -------------------------- 2/6 [fonttools]\n",
            "   ------------- -------------------------- 2/6 [fonttools]\n",
            "   ------------- -------------------------- 2/6 [fonttools]\n",
            "   ------------- -------------------------- 2/6 [fonttools]\n",
            "   ------------- -------------------------- 2/6 [fonttools]\n",
            "   ------------- -------------------------- 2/6 [fonttools]\n",
            "   ------------- -------------------------- 2/6 [fonttools]\n",
            "   ------------- -------------------------- 2/6 [fonttools]\n",
            "   ------------- -------------------------- 2/6 [fonttools]\n",
            "   ------------- -------------------------- 2/6 [fonttools]\n",
            "   ------------- -------------------------- 2/6 [fonttools]\n",
            "   ------------- -------------------------- 2/6 [fonttools]\n",
            "   ------------- -------------------------- 2/6 [fonttools]\n",
            "   -------------------- ------------------- 3/6 [cycler]\n",
            "   -------------------------- ------------- 4/6 [contourpy]\n",
            "   -------------------------- ------------- 4/6 [contourpy]\n",
            "   -------------------------- ------------- 4/6 [contourpy]\n",
            "   -------------------------- ------------- 4/6 [contourpy]\n",
            "   -------------------------- ------------- 4/6 [contourpy]\n",
            "   --------------------------------- ------ 5/6 [matplotlib]\n",
            "   --------------------------------- ------ 5/6 [matplotlib]\n",
            "   --------------------------------- ------ 5/6 [matplotlib]\n",
            "   --------------------------------- ------ 5/6 [matplotlib]\n",
            "   --------------------------------- ------ 5/6 [matplotlib]\n",
            "   --------------------------------- ------ 5/6 [matplotlib]\n",
            "   --------------------------------- ------ 5/6 [matplotlib]\n",
            "   --------------------------------- ------ 5/6 [matplotlib]\n",
            "   --------------------------------- ------ 5/6 [matplotlib]\n",
            "   --------------------------------- ------ 5/6 [matplotlib]\n",
            "   --------------------------------- ------ 5/6 [matplotlib]\n",
            "   --------------------------------- ------ 5/6 [matplotlib]\n",
            "   --------------------------------- ------ 5/6 [matplotlib]\n",
            "   --------------------------------- ------ 5/6 [matplotlib]\n",
            "   --------------------------------- ------ 5/6 [matplotlib]\n",
            "   --------------------------------- ------ 5/6 [matplotlib]\n",
            "   --------------------------------- ------ 5/6 [matplotlib]\n",
            "   --------------------------------- ------ 5/6 [matplotlib]\n",
            "   --------------------------------- ------ 5/6 [matplotlib]\n",
            "   --------------------------------- ------ 5/6 [matplotlib]\n",
            "   --------------------------------- ------ 5/6 [matplotlib]\n",
            "   --------------------------------- ------ 5/6 [matplotlib]\n",
            "   --------------------------------- ------ 5/6 [matplotlib]\n",
            "   --------------------------------- ------ 5/6 [matplotlib]\n",
            "   --------------------------------- ------ 5/6 [matplotlib]\n",
            "   --------------------------------- ------ 5/6 [matplotlib]\n",
            "   --------------------------------- ------ 5/6 [matplotlib]\n",
            "   --------------------------------- ------ 5/6 [matplotlib]\n",
            "   --------------------------------- ------ 5/6 [matplotlib]\n",
            "   --------------------------------- ------ 5/6 [matplotlib]\n",
            "   --------------------------------- ------ 5/6 [matplotlib]\n",
            "   --------------------------------- ------ 5/6 [matplotlib]\n",
            "   --------------------------------- ------ 5/6 [matplotlib]\n",
            "   --------------------------------- ------ 5/6 [matplotlib]\n",
            "   --------------------------------- ------ 5/6 [matplotlib]\n",
            "   --------------------------------- ------ 5/6 [matplotlib]\n",
            "   --------------------------------- ------ 5/6 [matplotlib]\n",
            "   --------------------------------- ------ 5/6 [matplotlib]\n",
            "   --------------------------------- ------ 5/6 [matplotlib]\n",
            "   --------------------------------- ------ 5/6 [matplotlib]\n",
            "   --------------------------------- ------ 5/6 [matplotlib]\n",
            "   --------------------------------- ------ 5/6 [matplotlib]\n",
            "   --------------------------------- ------ 5/6 [matplotlib]\n",
            "   --------------------------------- ------ 5/6 [matplotlib]\n",
            "   --------------------------------- ------ 5/6 [matplotlib]\n",
            "   --------------------------------- ------ 5/6 [matplotlib]\n",
            "   --------------------------------- ------ 5/6 [matplotlib]\n",
            "   --------------------------------- ------ 5/6 [matplotlib]\n",
            "   --------------------------------- ------ 5/6 [matplotlib]\n",
            "   --------------------------------- ------ 5/6 [matplotlib]\n",
            "   --------------------------------- ------ 5/6 [matplotlib]\n",
            "   --------------------------------- ------ 5/6 [matplotlib]\n",
            "   --------------------------------- ------ 5/6 [matplotlib]\n",
            "   --------------------------------- ------ 5/6 [matplotlib]\n",
            "   --------------------------------- ------ 5/6 [matplotlib]\n",
            "   --------------------------------- ------ 5/6 [matplotlib]\n",
            "   --------------------------------- ------ 5/6 [matplotlib]\n",
            "   --------------------------------- ------ 5/6 [matplotlib]\n",
            "   --------------------------------- ------ 5/6 [matplotlib]\n",
            "   --------------------------------- ------ 5/6 [matplotlib]\n",
            "   --------------------------------- ------ 5/6 [matplotlib]\n",
            "   --------------------------------- ------ 5/6 [matplotlib]\n",
            "   --------------------------------- ------ 5/6 [matplotlib]\n",
            "   --------------------------------- ------ 5/6 [matplotlib]\n",
            "   --------------------------------- ------ 5/6 [matplotlib]\n",
            "   --------------------------------- ------ 5/6 [matplotlib]\n",
            "   --------------------------------- ------ 5/6 [matplotlib]\n",
            "   --------------------------------- ------ 5/6 [matplotlib]\n",
            "   --------------------------------- ------ 5/6 [matplotlib]\n",
            "   --------------------------------- ------ 5/6 [matplotlib]\n",
            "   --------------------------------- ------ 5/6 [matplotlib]\n",
            "   --------------------------------- ------ 5/6 [matplotlib]\n",
            "   --------------------------------- ------ 5/6 [matplotlib]\n",
            "   --------------------------------- ------ 5/6 [matplotlib]\n",
            "   --------------------------------- ------ 5/6 [matplotlib]\n",
            "   --------------------------------- ------ 5/6 [matplotlib]\n",
            "   --------------------------------- ------ 5/6 [matplotlib]\n",
            "   --------------------------------- ------ 5/6 [matplotlib]\n",
            "   --------------------------------- ------ 5/6 [matplotlib]\n",
            "   --------------------------------- ------ 5/6 [matplotlib]\n",
            "   --------------------------------- ------ 5/6 [matplotlib]\n",
            "   --------------------------------- ------ 5/6 [matplotlib]\n",
            "   --------------------------------- ------ 5/6 [matplotlib]\n",
            "   ---------------------------------------- 6/6 [matplotlib]\n",
            "\n",
            "Successfully installed contourpy-1.3.2 cycler-0.12.1 fonttools-4.58.2 kiwisolver-1.4.8 matplotlib-3.10.3 pyparsing-3.2.3\n",
            "Note: you may need to restart the kernel to use updated packages.\n"
          ]
        }
      ],
      "source": [
        "%pip install matplotlib pandas"
      ]
    },
    {
      "cell_type": "markdown",
      "metadata": {},
      "source": [
        "## 1. Lấy dữ liệu văn bản từ tệp PDF"
      ]
    },
    {
      "cell_type": "code",
      "execution_count": 65,
      "metadata": {},
      "outputs": [
        {
          "name": "stderr",
          "output_type": "stream",
          "text": [
            "2025-06-11 01:37:12,325 - INFO - Processing Book-Tay_Du_Ky-Viet in vie language at data\\source\\Book-Tay_Du_Ky-Viet.pdf...\n",
            "2025-06-11 01:37:13,268 - INFO - ✅ Page [unknown] saved to data\\raw_text\\vietnamese\\Book-Tay_Du_Ky-Viet.txt\n",
            "2025-06-11 01:37:13,268 - INFO - Finished processing Book-Tay_Du_Ky-Viet in vie language.\n"
          ]
        }
      ],
      "source": [
        "# VĂN BẢN CHỮ QUỐC NGỮ\n",
        "!python ./pdf_to_text/main.py -p ./data/source/Book-Tay_Du_Ky-Viet.pdf -l viet -o ./data/raw_text/vietnamese -fp 48 -np 2 --rule_path ./pdf_to_text/removal_rules_vietnamese.json --use_rule\n",
        "# Trang chứa nội dung: 48 -> 3415"
      ]
    },
    {
      "cell_type": "code",
      "execution_count": 88,
      "metadata": {},
      "outputs": [
        {
          "name": "stdout",
          "output_type": "stream",
          "text": [
            "^C\n"
          ]
        },
        {
          "name": "stderr",
          "output_type": "stream",
          "text": [
            "2025-06-12 00:04:14,885 - INFO - Processing Book-Tay_Du_Ky-Trung in chi_tra language at data\\source\\Book-Tay_Du_Ky-Trung.pdf...\n",
            "Traceback (most recent call last):\n",
            "  File \"d:\\00_Temp files\\Parallel-Corpus-Generator\\pdf_to_text\\main.py\", line 81, in <module>\n",
            "    main()\n",
            "  File \"d:\\00_Temp files\\Parallel-Corpus-Generator\\pdf_to_text\\main.py\", line 68, in main\n",
            "    extract_pdf_to_text(\n",
            "  File \"d:\\00_Temp files\\Parallel-Corpus-Generator\\pdf_to_text\\text_img_utils.py\", line 345, in extract_pdf_to_text\n",
            "    save_text(content, output_file, page_num)\n",
            "  File \"d:\\00_Temp files\\Parallel-Corpus-Generator\\pdf_to_text\\text_img_utils.py\", line 264, in save_text\n",
            "    f.write(text.strip())\n",
            "            ^^^^^^^^^^\n",
            "AttributeError: 'list' object has no attribute 'strip'\n"
          ]
        }
      ],
      "source": [
        "# VĂN BẢN CHỮ HÁN\n",
        "!python ./pdf_to_text/main.py -p ./data/source/Book-Tay_Du_Ky-Trung.pdf -l trung -o ./data/raw_text/chinese -fp 1 -np 2 --rule_path ./pdf_to_text/removal_rules_chinese.json --use_rule --use_page_split\n",
        "# Trang chứa nội dung: 1 -> 542"
      ]
    },
    {
      "cell_type": "markdown",
      "metadata": {},
      "source": [
        "## 2. Chuẩn hóa dữ liệu văn bản "
      ]
    },
    {
      "cell_type": "markdown",
      "metadata": {},
      "source": [
        "### 2.1 Chuẩn hóa văn bản chữ Quốc ngữ"
      ]
    },
    {
      "cell_type": "code",
      "execution_count": 36,
      "metadata": {},
      "outputs": [
        {
          "name": "stdout",
          "output_type": "stream",
          "text": [
            "Starting folder processing...\n",
            "Input folder: data\\raw_text\\vietnamese\n",
            "Output folder: data\\cleaned_text\\vietnamese\n",
            "Extensions: ['.txt']\n",
            "Recursive: False\n",
            "\n",
            "======================================================================\n",
            "PROCESSING ANALYSIS SUMMARY\n",
            "======================================================================\n",
            "\n",
            "FILES & CHARACTERS:\n",
            "   Files Processed: 1\n",
            "   Total Characters: 749 → 738 (1.5%)\n",
            "   Average Reduction: 1.5% | Max: 1.5% | Min: 1.5%\n",
            "\n",
            "SENTENCE ANALYSIS:\n",
            "   Total Sentences: 13 → 13 (+0.0%)\n",
            "   Total Words: 164 → 164 (+0.0%)\n",
            "   Avg Chars/Sentence: 57.6 → 56.8\n",
            "   Avg Words/Sentence: 12.6 → 12.6\n",
            "\n",
            "====================================================================================================\n",
            "DETAILED RESULTS\n",
            "====================================================================================================\n",
            "#   Filename                                 Original     Cleaned      Reduction  Sentences   \n",
            "--- ---------------------------------------- ------------ ------------ ---------- ------------\n",
            "1   Book-Tay_Du_Ky-Viet_page_48_to_48.txt             749          738       1.5% 13→13       \n"
          ]
        },
        {
          "name": "stderr",
          "output_type": "stream",
          "text": [
            "2025-06-10 18:12:11,616 - FileProcessor - INFO - Found 1 files with extensions ['.txt'] in data\\raw_text\\vietnamese\n",
            "2025-06-10 18:12:11,616 - FileProcessor - INFO - Starting batch processing of 1 files\n",
            "2025-06-10 18:12:11,617 - FileProcessor - INFO - Successfully read 749 characters from data\\raw_text\\vietnamese\\Book-Tay_Du_Ky-Viet_page_48_to_48.txt\n",
            "2025-06-10 18:12:11,832 - FileProcessor - INFO - Successfully wrote 738 characters to data\\cleaned_text\\vietnamese\\Book-Tay_Du_Ky-Viet_page_48_to_48.txt\n",
            "2025-06-10 18:12:11,833 - FileProcessor - INFO - Processing complete: 1.5% size reduction\n",
            "2025-06-10 18:12:11,833 - FileProcessor - INFO - Progress: 1/1 - Processed 'Book-Tay_Du_Ky-Viet_page_48_to_48.txt' (749 → 738 chars, 1.5% reduction)\n",
            "2025-06-10 18:12:11,833 - FileProcessor - INFO - Batch processing complete: 1/1 files successful\n"
          ]
        }
      ],
      "source": [
        "!python ./text_normalizer_vietnamese/main.py ./data/raw_text/vietnamese/ ./data/cleaned_text/vietnamese"
      ]
    },
    {
      "cell_type": "markdown",
      "metadata": {},
      "source": [
        "### 2.2 Chuẩn hóa văn bản chữ Hán"
      ]
    },
    {
      "cell_type": "code",
      "execution_count": 54,
      "metadata": {},
      "outputs": [
        {
          "name": "stdout",
          "output_type": "stream",
          "text": [
            "Đã lưu bảng phân nhóm vào: clustering_sentences.csv\n",
            "Đã lưu biểu đồ vào: plots_sentences.png\n",
            "\n",
            "Thống kê: {'Số lượng câu': 62, 'Chiều dài trung bình': np.float64(31.18), 'Độ lệch chuẩn': np.float64(23.54), 'Chiều dài tối thiểu': 9, 'Chiều dài tối đa': 117, 'Phân vị 25%': np.float64(15.25), 'Phân vị 50%': np.float64(23.0), 'Phân vị 75%': np.float64(35.0)}\n"
          ]
        }
      ],
      "source": [
        "!python ./text_normalizer_chinese/main.py -i ./data/raw_text/chinese/ -o ./data/cleaned_text/chinese"
      ]
    },
    {
      "cell_type": "code",
      "execution_count": 87,
      "metadata": {},
      "outputs": [
        {
          "name": "stdout",
          "output_type": "stream",
          "text": [
            "MỘT NGHÌN BỐN TRĂM LẺ HAI = 1402\n",
            "NHẤT = 1\n",
            "HAI = 2\n",
            "BA = 3\n",
            "TƯ = 4\n",
            "NĂM = 5\n",
            "SÁU = 6\n",
            "BẢY = 7\n",
            "TÁM = 8\n",
            "CHÍN = 9\n",
            "MƯỜI = 10\n",
            "MƯỜI MỘT = 11\n",
            "MƯỜI HAI = 12\n",
            "HAI MƯƠI = 20\n",
            "HAI MƯƠI MỐT = 21\n",
            "NĂM MƯƠI LĂM = 55\n",
            "MỘT TRĂM = 100\n"
          ]
        }
      ],
      "source": [
        "!python ./chapter_text_splitter/utils.py"
      ]
    }
  ],
  "metadata": {
    "colab": {
      "provenance": []
    },
    "kernelspec": {
      "display_name": "nlp_midterm",
      "language": "python",
      "name": "python3"
    },
    "language_info": {
      "codemirror_mode": {
        "name": "ipython",
        "version": 3
      },
      "file_extension": ".py",
      "mimetype": "text/x-python",
      "name": "python",
      "nbconvert_exporter": "python",
      "pygments_lexer": "ipython3",
      "version": "3.11.13"
    }
  },
  "nbformat": 4,
  "nbformat_minor": 0
}
